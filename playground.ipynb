{
 "cells": [
  {
   "cell_type": "markdown",
   "metadata": {},
   "source": [
    "### Pix2Tex训练"
   ]
  },
  {
   "cell_type": "code",
   "execution_count": null,
   "metadata": {},
   "outputs": [],
   "source": [
    "from main.utils.jsonData import JsonData\n",
    "from main.trainer import Trainer"
   ]
  },
  {
   "cell_type": "code",
   "execution_count": null,
   "metadata": {},
   "outputs": [],
   "source": [
    "config = JsonData('./config/colab.json')\n",
    "\n",
    "trainer = Trainer(model_config=config, vocab_file='./model/tokenizer.json', train_data_path=['./data/pix2tex/crohme', './data/pix2tex/pdf'], eval_data_path=['./data/pix2tex/crohme', './data/pix2tex/pdf'], resume_path='./save_model/Full/Checkpoint_40605/model.pth', batchsize=30, pad=True, task_name='Full')"
   ]
  },
  {
   "cell_type": "code",
   "execution_count": null,
   "metadata": {},
   "outputs": [],
   "source": [
    "for i in trainer(num_epochs=120, lr=1e-4, eval_call_epoch=lambda x: x > 0 and x % 10 == 0):\n",
    "    a = i"
   ]
  },
  {
   "cell_type": "markdown",
   "metadata": {},
   "source": [
    "### 预测"
   ]
  },
  {
   "cell_type": "code",
   "execution_count": null,
   "metadata": {},
   "outputs": [],
   "source": [
    "from main.utils.jsonData import JsonData\n",
    "from main.predictor import LatexOCR"
   ]
  },
  {
   "cell_type": "code",
   "execution_count": null,
   "metadata": {},
   "outputs": [],
   "source": [
    "config = JsonData('./config/colab.json')\n",
    "\n",
    "model = LatexOCR(model_config=config, vocab_file='./model/tokenizer.json', resume_path='./save_model/released/Checkpoint_8146/model.pth', resize_model_path='./model/image_resizer.pth')"
   ]
  },
  {
   "cell_type": "code",
   "execution_count": null,
   "metadata": {},
   "outputs": [],
   "source": [
    "import os\n",
    "from PIL import Image\n",
    "\n",
    "dir = './test_samples'\n",
    "imgs = ['1.png', 'a.png', 'b.png', 'c.png', 'd.png', 'e.png', 'f.png', 'g.png', 'h.png', 'i.png', 'j.png']\n",
    "\n",
    "for path in imgs:\n",
    "    img = Image.open(os.path.join(dir, path))\n",
    "    math = model(img)\n",
    "    print(f'### {path}\\n${math}$\\n')"
   ]
  }
 ],
 "metadata": {
  "kernelspec": {
   "display_name": "latexocr",
   "language": "python",
   "name": "python3"
  },
  "language_info": {
   "codemirror_mode": {
    "name": "ipython",
    "version": 3
   },
   "file_extension": ".py",
   "mimetype": "text/x-python",
   "name": "python",
   "nbconvert_exporter": "python",
   "pygments_lexer": "ipython3",
   "version": "3.10.13"
  }
 },
 "nbformat": 4,
 "nbformat_minor": 2
}
